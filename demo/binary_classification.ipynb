{
 "cells": [
  {
   "cell_type": "code",
   "execution_count": 1,
   "id": "541d86fc",
   "metadata": {},
   "outputs": [],
   "source": [
    "%matplotlib inline\n",
    "\n",
    "import random\n",
    "import numpy as np\n",
    "import matplotlib.pyplot as plt\n",
    "\n",
    "from miniad import Tensor\n",
    "import miniad.functional as F\n",
    "\n",
    "np.random.seed(123)\n",
    "random.seed(123)"
   ]
  },
  {
   "cell_type": "code",
   "execution_count": 2,
   "id": "421f4143",
   "metadata": {},
   "outputs": [
    {
     "data": {
      "text/plain": [
       "<matplotlib.collections.PathCollection at 0x7fa6fcea95d0>"
      ]
     },
     "execution_count": 2,
     "metadata": {},
     "output_type": "execute_result"
    },
    {
     "data": {
      "image/png": "[encoded data removed]",
      "text/plain": [
       "<Figure size 360x360 with 1 Axes>"
      ]
     },
     "metadata": {
      "needs_background": "light"
     },
     "output_type": "display_data"
    }
   ],
   "source": [
    "# make up a dataset\n",
    "# Refer to https://github.com/karpathy/micrograd/blob/master/demo.ipynb\n",
    "from sklearn.datasets import make_moons, make_blobs\n",
    "X, y = make_moons(n_samples=100, noise=0.1)\n",
    "\n",
    "# visualize in 2D\n",
    "plt.figure(figsize=(5, 5))\n",
    "plt.scatter(X[:,0], X[:,1], c=y, s=20, cmap='jet')"
   ]
  },
  {
   "cell_type": "code",
   "execution_count": 3,
   "id": "55d516b8",
   "metadata": {},
   "outputs": [],
   "source": [
    "class Model:\n",
    "    def __init__(self, input_dim, hidden_dim):\n",
    "        \n",
    "        self.hidden_weight = Tensor(np.random.randn(input_dim, hidden_dim))\n",
    "        self.hidden_bias = Tensor(np.random.randn(hidden_dim))\n",
    "        \n",
    "        self.project_weight = Tensor(np.random.randn(hidden_dim, 1))\n",
    "        self.project_bias = Tensor(np.random.randn(1))\n",
    "    \n",
    "    def forward(self, x):\n",
    "        x = F.linear(x, self.hidden_weight, self.hidden_bias)\n",
    "        x = F.relu(x)\n",
    "        x = F.linear(x, self.project_weight, self.project_bias)\n",
    "        x = F.squeeze(x)\n",
    "        x = F.sigmoid(x)\n",
    "        \n",
    "        return x\n",
    "    \n",
    "    def __call__(self, *args):\n",
    "        return self.forward(*args)\n",
    "    \n",
    "    def parameters(self):\n",
    "        return [self.hidden_weight, self.hidden_bias,\n",
    "               self.project_weight, self.project_bias]\n",
    "    \n",
    "    def zero_grad(self):\n",
    "        for parameter in self.parameters():\n",
    "            parameter.grad = None\n"
   ]
  },
  {
   "cell_type": "code",
   "execution_count": 4,
   "id": "0d3441cc",
   "metadata": {},
   "outputs": [],
   "source": [
    "model = Model(2, 128)"
   ]
  },
  {
   "cell_type": "code",
   "execution_count": 5,
   "id": "adec0fb1",
   "metadata": {},
   "outputs": [
    {
     "name": "stdout",
     "output_type": "stream",
     "text": [
      "step 0 loss 3.4601510500046313, accuracy 28.000000000000004%\n",
      "step 1 loss 6.088194257399245, accuracy 72.0%\n",
      "step 2 loss 3.563766097836341, accuracy 81.0%\n",
      "step 3 loss 2.1279805175783277, accuracy 83.0%\n",
      "step 4 loss 1.3165589597013068, accuracy 88.0%\n",
      "step 5 loss 0.9956155266847213, accuracy 88.0%\n",
      "step 6 loss 0.7865346050961867, accuracy 89.0%\n",
      "step 7 loss 0.6377522819061003, accuracy 90.0%\n",
      "step 8 loss 0.5303888542447999, accuracy 91.0%\n",
      "step 9 loss 0.46131962802118437, accuracy 90.0%\n",
      "step 10 loss 0.42251894771446574, accuracy 90.0%\n",
      "step 11 loss 0.40946146725620136, accuracy 92.0%\n",
      "step 12 loss 0.39661770283974834, accuracy 91.0%\n",
      "step 13 loss 0.44100634652406046, accuracy 93.0%\n",
      "step 14 loss 0.4369221330987767, accuracy 90.0%\n",
      "step 15 loss 0.4907624827753422, accuracy 91.0%\n",
      "step 16 loss 0.4809280688963969, accuracy 89.0%\n",
      "step 17 loss 0.5267108971092034, accuracy 92.0%\n",
      "step 18 loss 0.43200415782964446, accuracy 91.0%\n",
      "step 19 loss 0.4361605043615576, accuracy 93.0%\n",
      "step 20 loss 0.3053979898682439, accuracy 90.0%\n",
      "step 21 loss 0.29114320251955134, accuracy 95.0%\n",
      "step 22 loss 0.21899761681778374, accuracy 93.0%\n",
      "step 23 loss 0.1964537311386549, accuracy 95.0%\n",
      "step 24 loss 0.16741306303554382, accuracy 95.0%\n",
      "step 25 loss 0.14604085848011666, accuracy 97.0%\n",
      "step 26 loss 0.12828770214518362, accuracy 96.0%\n",
      "step 27 loss 0.11654689927946242, accuracy 96.0%\n",
      "step 28 loss 0.10804748552406213, accuracy 96.0%\n",
      "step 29 loss 0.10057226167193485, accuracy 96.0%\n"
     ]
    }
   ],
   "source": [
    "# training\n",
    "for k in range(40):\n",
    "    Xy = np.concatenate([X, y.reshape(-1, 1)], 1)\n",
    "    np.random.shuffle(Xy)\n",
    "    X = Xy[:, :2]\n",
    "    y = Xy[:, -1].reshape(-1)\n",
    "    \n",
    "    inputs = Tensor(X)\n",
    "    outputs = model(inputs)\n",
    "    loss = F.binary_cross_entropy_loss(outputs, y)\n",
    "    \n",
    "    accuracy = [(yi >= 0.5) == (yhati >= 0.5) for yi, yhati in zip(y, outputs.data)]\n",
    "    acc = sum(accuracy) / len(accuracy)\n",
    "    \n",
    "    # backward\n",
    "    model.zero_grad()\n",
    "    loss.backward()\n",
    "    \n",
    "    # update (sgd)\n",
    "    learning_rate = 1.0 - 0.9*k/100\n",
    "    for p in model.parameters():\n",
    "        p.data -= learning_rate * p.grad\n",
    "    \n",
    "    print(\"step {} loss {}, accuracy {}%\".format(k, loss.data, acc*100))"
   ]
  },
  {
   "cell_type": "code",
   "execution_count": null,
   "id": "9b44148c",
   "metadata": {},
   "outputs": [],
   "source": []
  }
 ],
 "metadata": {
  "kernelspec": {
   "display_name": "Python 3",
   "language": "python",
   "name": "python3"
  },
  "language_info": {
   "codemirror_mode": {
    "name": "ipython",
    "version": 3
   },
   "file_extension": ".py",
   "mimetype": "text/x-python",
   "name": "python",
   "nbconvert_exporter": "python",
   "pygments_lexer": "ipython3",
   "version": "3.7.4"
  }
 },
 "nbformat": 4,
 "nbformat_minor": 5
}
